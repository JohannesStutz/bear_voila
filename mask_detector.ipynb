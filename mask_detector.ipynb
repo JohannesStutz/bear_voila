{
 "cells": [
  {
   "cell_type": "code",
   "execution_count": 1,
   "metadata": {},
   "outputs": [
    {
     "name": "stdout",
     "output_type": "stream",
     "text": [
      "Collecting fastai\n",
      "  Downloading fastai-2.0.16-py3-none-any.whl (187 kB)\n",
      "\u001b[K     |████████████████████████████████| 187 kB 11.7 MB/s eta 0:00:01\n",
      "\u001b[?25hRequirement already satisfied, skipping upgrade: pillow in /opt/conda/envs/fastai/lib/python3.8/site-packages (from fastai) (7.2.0)\n",
      "Requirement already satisfied, skipping upgrade: spacy in /opt/conda/envs/fastai/lib/python3.8/site-packages (from fastai) (2.3.2)\n",
      "Requirement already satisfied, skipping upgrade: packaging in /opt/conda/envs/fastai/lib/python3.8/site-packages (from fastai) (20.4)\n",
      "Requirement already satisfied, skipping upgrade: pandas in /opt/conda/envs/fastai/lib/python3.8/site-packages (from fastai) (1.1.0)\n",
      "Requirement already satisfied, skipping upgrade: pyyaml in /opt/conda/envs/fastai/lib/python3.8/site-packages (from fastai) (5.3.1)\n",
      "Requirement already satisfied, skipping upgrade: pip in /opt/conda/envs/fastai/lib/python3.8/site-packages (from fastai) (20.2.2)\n",
      "Requirement already satisfied, skipping upgrade: matplotlib in /opt/conda/envs/fastai/lib/python3.8/site-packages (from fastai) (3.3.1)\n",
      "Requirement already satisfied, skipping upgrade: requests in /opt/conda/envs/fastai/lib/python3.8/site-packages (from fastai) (2.24.0)\n",
      "Requirement already satisfied, skipping upgrade: scikit-learn in /opt/conda/envs/fastai/lib/python3.8/site-packages (from fastai) (0.23.2)\n",
      "Requirement already satisfied, skipping upgrade: scipy in /opt/conda/envs/fastai/lib/python3.8/site-packages (from fastai) (1.5.2)\n",
      "Requirement already satisfied, skipping upgrade: torchvision>=0.7 in /opt/conda/envs/fastai/lib/python3.8/site-packages (from fastai) (0.7.0)\n",
      "Requirement already satisfied, skipping upgrade: torch>=1.6.0 in /opt/conda/envs/fastai/lib/python3.8/site-packages (from fastai) (1.6.0)\n",
      "Collecting fastcore>=1.1.0\n",
      "  Downloading fastcore-1.1.2-py3-none-any.whl (42 kB)\n",
      "\u001b[K     |████████████████████████████████| 42 kB 4.4 MB/s  eta 0:00:01\n",
      "\u001b[?25hRequirement already satisfied, skipping upgrade: fastprogress>=0.2.4 in /opt/conda/envs/fastai/lib/python3.8/site-packages (from fastai) (1.0.0)\n",
      "Requirement already satisfied, skipping upgrade: blis<0.5.0,>=0.4.0 in /opt/conda/envs/fastai/lib/python3.8/site-packages (from spacy->fastai) (0.4.1)\n",
      "Requirement already satisfied, skipping upgrade: cymem<2.1.0,>=2.0.2 in /opt/conda/envs/fastai/lib/python3.8/site-packages (from spacy->fastai) (2.0.3)\n",
      "Requirement already satisfied, skipping upgrade: srsly<1.1.0,>=1.0.2 in /opt/conda/envs/fastai/lib/python3.8/site-packages (from spacy->fastai) (1.0.2)\n",
      "Requirement already satisfied, skipping upgrade: numpy>=1.15.0 in /opt/conda/envs/fastai/lib/python3.8/site-packages (from spacy->fastai) (1.19.1)\n",
      "Requirement already satisfied, skipping upgrade: setuptools in /opt/conda/envs/fastai/lib/python3.8/site-packages (from spacy->fastai) (49.6.0.post20200814)\n",
      "Requirement already satisfied, skipping upgrade: catalogue<1.1.0,>=0.0.7 in /opt/conda/envs/fastai/lib/python3.8/site-packages (from spacy->fastai) (1.0.0)\n",
      "Requirement already satisfied, skipping upgrade: thinc==7.4.1 in /opt/conda/envs/fastai/lib/python3.8/site-packages (from spacy->fastai) (7.4.1)\n",
      "Requirement already satisfied, skipping upgrade: plac<1.2.0,>=0.9.6 in /opt/conda/envs/fastai/lib/python3.8/site-packages (from spacy->fastai) (0.9.6)\n",
      "Requirement already satisfied, skipping upgrade: murmurhash<1.1.0,>=0.28.0 in /opt/conda/envs/fastai/lib/python3.8/site-packages (from spacy->fastai) (1.0.0)\n",
      "Requirement already satisfied, skipping upgrade: preshed<3.1.0,>=3.0.2 in /opt/conda/envs/fastai/lib/python3.8/site-packages (from spacy->fastai) (3.0.2)\n",
      "Requirement already satisfied, skipping upgrade: tqdm<5.0.0,>=4.38.0 in /opt/conda/envs/fastai/lib/python3.8/site-packages (from spacy->fastai) (4.48.2)\n",
      "Requirement already satisfied, skipping upgrade: wasabi<1.1.0,>=0.4.0 in /opt/conda/envs/fastai/lib/python3.8/site-packages (from spacy->fastai) (0.7.1)\n",
      "Requirement already satisfied, skipping upgrade: pyparsing>=2.0.2 in /opt/conda/envs/fastai/lib/python3.8/site-packages (from packaging->fastai) (2.4.7)\n",
      "Requirement already satisfied, skipping upgrade: six in /opt/conda/envs/fastai/lib/python3.8/site-packages (from packaging->fastai) (1.15.0)\n",
      "Requirement already satisfied, skipping upgrade: pytz>=2017.2 in /opt/conda/envs/fastai/lib/python3.8/site-packages (from pandas->fastai) (2020.1)\n",
      "Requirement already satisfied, skipping upgrade: python-dateutil>=2.7.3 in /opt/conda/envs/fastai/lib/python3.8/site-packages (from pandas->fastai) (2.8.1)\n",
      "Requirement already satisfied, skipping upgrade: kiwisolver>=1.0.1 in /opt/conda/envs/fastai/lib/python3.8/site-packages (from matplotlib->fastai) (1.2.0)\n",
      "Requirement already satisfied, skipping upgrade: cycler>=0.10 in /opt/conda/envs/fastai/lib/python3.8/site-packages (from matplotlib->fastai) (0.10.0)\n",
      "Requirement already satisfied, skipping upgrade: certifi>=2020.06.20 in /opt/conda/envs/fastai/lib/python3.8/site-packages (from matplotlib->fastai) (2020.6.20)\n",
      "Requirement already satisfied, skipping upgrade: chardet<4,>=3.0.2 in /opt/conda/envs/fastai/lib/python3.8/site-packages (from requests->fastai) (3.0.4)\n",
      "Requirement already satisfied, skipping upgrade: urllib3!=1.25.0,!=1.25.1,<1.26,>=1.21.1 in /opt/conda/envs/fastai/lib/python3.8/site-packages (from requests->fastai) (1.25.10)\n",
      "Requirement already satisfied, skipping upgrade: idna<3,>=2.5 in /opt/conda/envs/fastai/lib/python3.8/site-packages (from requests->fastai) (2.10)\n",
      "Requirement already satisfied, skipping upgrade: threadpoolctl>=2.0.0 in /opt/conda/envs/fastai/lib/python3.8/site-packages (from scikit-learn->fastai) (2.1.0)\n",
      "Requirement already satisfied, skipping upgrade: joblib>=0.11 in /opt/conda/envs/fastai/lib/python3.8/site-packages (from scikit-learn->fastai) (0.16.0)\n",
      "Requirement already satisfied, skipping upgrade: future in /opt/conda/envs/fastai/lib/python3.8/site-packages (from torch>=1.6.0->fastai) (0.18.2)\n",
      "Installing collected packages: fastcore, fastai\n",
      "  Attempting uninstall: fastcore\n",
      "    Found existing installation: fastcore 1.0.15\n",
      "    Uninstalling fastcore-1.0.15:\n",
      "      Successfully uninstalled fastcore-1.0.15\n",
      "  Attempting uninstall: fastai\n",
      "    Found existing installation: fastai 2.0.15\n",
      "    Uninstalling fastai-2.0.15:\n",
      "      Successfully uninstalled fastai-2.0.15\n",
      "Successfully installed fastai-2.0.16 fastcore-1.1.2\n"
     ]
    }
   ],
   "source": [
    "!pip install fastai --upgrade"
   ]
  },
  {
   "cell_type": "code",
   "execution_count": 2,
   "metadata": {},
   "outputs": [],
   "source": [
    "from fastai.vision.all import *\n",
    "from fastai.vision.widgets import *"
   ]
  },
  {
   "cell_type": "code",
   "execution_count": 12,
   "metadata": {},
   "outputs": [],
   "source": [
    "path = Path(os.path.dirname(os.path.dirname(os.path.dirname(os.getcwd())))+'storage/data/mask_detector')\n",
    "learn_inf = load_learner(path/'model_resnet18_v2.pkl', cpu=True)\n",
    "btn_upload = widgets.FileUpload()\n",
    "out_pl = widgets.Output()\n",
    "lbl_pred = widgets.Label()\n",
    "details = widgets.Label()"
   ]
  },
  {
   "cell_type": "code",
   "execution_count": 19,
   "metadata": {},
   "outputs": [],
   "source": [
    "def on_data_change(change):\n",
    "    details.value = ''\n",
    "    lbl_pred.value = ''\n",
    "    img = PILImage.create(btn_upload.data[-1])\n",
    "    out_pl.clear_output()\n",
    "    with out_pl: display(img.to_thumb(128,128))\n",
    "    pred,pred_idx,probs = learn_inf.predict(img)\n",
    "    message = \"\"\n",
    "    if \"incorrect\" in pred:\n",
    "        message = \"Please wear your mask correctly!\"\n",
    "    if \"correct\" in pred and \"mask\" in pred:\n",
    "        message = \"Thank you for wearing a mask.\"\n",
    "    lbl_pred.value = message\n",
    "    details.value = f'Prediction: {pred} PredIndex: {pred_idx}, Probs: {probs}'\n",
    "    #lbl_pred.value = 'Where\\'s your mask?!' if pred == 'no_mask' else 'Nice mask.'\n",
    "    #lbl_pred.value = f'Prediction: {pred}; Probability: {probs[pred_idx]:.04f}'"
   ]
  },
  {
   "cell_type": "code",
   "execution_count": 17,
   "metadata": {},
   "outputs": [],
   "source": [
    "btn_upload.observe(on_data_change, names=['data'])"
   ]
  },
  {
   "cell_type": "code",
   "execution_count": 18,
   "metadata": {},
   "outputs": [
    {
     "data": {
      "application/vnd.jupyter.widget-view+json": {
       "model_id": "c47807bd68ef4f43a8bb214a985b8d4f",
       "version_major": 2,
       "version_minor": 0
      },
      "text/plain": [
       "VBox(children=(Label(value='Upload a selfie!'), FileUpload(value={'ich.jpg': {'metadata': {'name': 'ich.jpg', …"
      ]
     },
     "metadata": {},
     "output_type": "display_data"
    },
    {
     "data": {
      "text/html": [],
      "text/plain": [
       "<IPython.core.display.HTML object>"
      ]
     },
     "metadata": {},
     "output_type": "display_data"
    },
    {
     "data": {
      "text/html": [],
      "text/plain": [
       "<IPython.core.display.HTML object>"
      ]
     },
     "metadata": {},
     "output_type": "display_data"
    },
    {
     "data": {
      "text/html": [],
      "text/plain": [
       "<IPython.core.display.HTML object>"
      ]
     },
     "metadata": {},
     "output_type": "display_data"
    },
    {
     "data": {
      "text/html": [],
      "text/plain": [
       "<IPython.core.display.HTML object>"
      ]
     },
     "metadata": {},
     "output_type": "display_data"
    },
    {
     "data": {
      "text/html": [],
      "text/plain": [
       "<IPython.core.display.HTML object>"
      ]
     },
     "metadata": {},
     "output_type": "display_data"
    },
    {
     "data": {
      "text/html": [],
      "text/plain": [
       "<IPython.core.display.HTML object>"
      ]
     },
     "metadata": {},
     "output_type": "display_data"
    }
   ],
   "source": [
    "display(VBox([widgets.Label('Upload a selfie!'), btn_upload, out_pl, lbl_pred, details]))"
   ]
  },
  {
   "cell_type": "code",
   "execution_count": 17,
   "metadata": {},
   "outputs": [],
   "source": [
    "# !jupyter serverextension enable voila --sys-prefix"
   ]
  },
  {
   "cell_type": "code",
   "execution_count": 20,
   "metadata": {},
   "outputs": [],
   "source": [
    "# ! pip show fastai"
   ]
  },
  {
   "cell_type": "code",
   "execution_count": null,
   "metadata": {},
   "outputs": [],
   "source": []
  }
 ],
 "metadata": {
  "kernelspec": {
   "display_name": "Python 3",
   "language": "python",
   "name": "python3"
  },
  "language_info": {
   "codemirror_mode": {
    "name": "ipython",
    "version": 3
   },
   "file_extension": ".py",
   "mimetype": "text/x-python",
   "name": "python",
   "nbconvert_exporter": "python",
   "pygments_lexer": "ipython3",
   "version": "3.8.5"
  }
 },
 "nbformat": 4,
 "nbformat_minor": 4
}
